{
 "metadata": {
  "name": ""
 },
 "nbformat": 3,
 "nbformat_minor": 0,
 "worksheets": [
  {
   "cells": [
    {
     "cell_type": "heading",
     "level": 1,
     "metadata": {},
     "source": [
      "z2fo (zip-2-FLAC+OGG)"
     ]
    },
    {
     "cell_type": "code",
     "collapsed": false,
     "input": [
      "#Note: opening this file with the --script option ensures that a .py version is saved automatically that can be run\n",
      "#with the bash command: z2fo (I set up an alias in .bashrc)\n",
      "#\n",
      "#This script unzips a zip containing FLACs and converts to OGGs"
     ],
     "language": "python",
     "metadata": {},
     "outputs": []
    },
    {
     "cell_type": "code",
     "collapsed": false,
     "input": [
      "import sys\n",
      "import argparse\n",
      "import zipfile\n",
      "import os\n",
      "import re\n",
      "import subprocess as sp"
     ],
     "language": "python",
     "metadata": {},
     "outputs": []
    },
    {
     "cell_type": "code",
     "collapsed": false,
     "input": [
      "#Handle parsing of arguements to function\n",
      "\n",
      "#Create an instance of an arguement parser (gives us --help for free)\n",
      "parser = argparse.ArgumentParser()\n",
      "\n",
      "#Add an arguement\n",
      "parser.add_argument(\"zipFname\", help=\"\"\"the filename of the zip you \n",
      "                    want to extract\"\"\")\n",
      "args = parser.parse_args()\n",
      "zipFname = args.zipFname"
     ],
     "language": "python",
     "metadata": {},
     "outputs": []
    },
    {
     "cell_type": "code",
     "collapsed": false,
     "input": [
      "#Check if file exists\n",
      "if (os.path.isfile(zipFname) == False):\n",
      "    print \"File does not exist, aborting.\"\n",
      "    sys.exit()\n",
      "    \n",
      "#Check if file is a zip\n",
      "if (zipFname.endswith(\".zip\") == False):\n",
      "    print \"File \" + zipFname + \" is not a zip, aborting.\"\n",
      "    sys.exit()"
     ],
     "language": "python",
     "metadata": {},
     "outputs": []
    },
    {
     "cell_type": "code",
     "collapsed": false,
     "input": [
      "#Get list of all FLAC files\n",
      "myZip = zipfile.ZipFile(zipFname)\n",
      "zippedFiles = myZip.namelist() #List of all zipped files.\n",
      "\n",
      "#Get a sublist of just the FLAC files\n",
      "flacFiles = []\n",
      "\n",
      "for filename in zippedFiles:\n",
      "    if (filename.endswith(\".flac\") == True):\n",
      "        flacFiles.append(filename)\n",
      "        \n",
      "#Exit if no FLAC files are found\n",
      "if not flacFiles:\n",
      "    print \"No FLAC files were found, aborting.\"\n",
      "    sys.exit()\n",
      "\n",
      "#Print found files\n",
      "print \"\\n\" + str(len(zippedFiles)) + \" files were found:\"\n",
      "for filename in zippedFiles:\n",
      "    print filename\n",
      "\n",
      "#Extract all FLAC files to /tmp (so can examine metadata)\n",
      "whereExtract = \"/tmp/\"\n",
      "\n",
      "for flac in flacFiles:\n",
      "    myZip.extract(flac, path=whereExtract) #extract files to /tmp\n",
      "\n",
      "#Get all metadata from FLAC files extracted to /tmp/\n",
      "vorbisComments = []\n",
      "for filename in flacFiles:\n",
      "    #Set up a metaflac command on extracted file \n",
      "    cmd = [\"metaflac\",\"--list\",\"--block-type=VORBIS_COMMENT\",whereExtract + filename]\n",
      "    \n",
      "    #Run the command using subprocess\n",
      "    vorbisComments.append(sp.check_output(cmd))\n",
      "\n",
      "#create a dictionary to hold key/value pairs\n",
      "allMeta = []\n",
      "for comV in vorbisComments:\n",
      "    comVSplit = comV.split(\"\\n\")\n",
      "    trackComments = {}\n",
      "    for comment in comVSplit:\n",
      "        p = re.compile(r\"    comment\\[\\d*\\]: \")\n",
      "        m = p.match(comment)\n",
      "        if m == None:\n",
      "            pass\n",
      "        else:\n",
      "            mm = m.group()\n",
      "            trackComments[comment.split(mm)[1].split('=',1)[0]] = comment.split(mm)[1].split('=',1)[1]\n",
      "    allMeta.append(trackComments)\n",
      "\n",
      "#At this point, we have extracted all of the metadata and so can delete the extracted files from /tmp/\n",
      "for filename in zippedFiles:\n",
      "    cmd = [\"rm\",\"-f\",whereExtract + filename]\n",
      "    sp.call(cmd)\n",
      "\n",
      "#Compilation test (test if artist tag is the same for all files)\n",
      "def all_same(items):\n",
      "    return all(x == items[0] for x in items)\n",
      "\n",
      "artists = []\n",
      "for track in allMeta:\n",
      "    artists.append(track['ARTIST'])\n",
      "    \n",
      "#Run test\n",
      "if all_same(artists) == True:\n",
      "    artist = artists[0]\n",
      "else:\n",
      "    print \"This is a compilation, exiting until I can handle this properly\"\n",
      "    exit.sys()\n",
      "\n",
      "#Create alpha-numeric-only versions of the artist and album, for directory structure.\n",
      "album = allMeta[0]['ALBUM']\n",
      "\n",
      "artistAlNum = re.sub(r'\\W+', '_', artist)\n",
      "albumAlNum = re.sub(r'\\W+', '_', album)"
     ],
     "language": "python",
     "metadata": {},
     "outputs": [
      {
       "ename": "NameError",
       "evalue": "name 'zipFname' is not defined",
       "output_type": "pyerr",
       "traceback": [
        "\u001b[0;31m---------------------------------------------------------------------------\u001b[0m\n\u001b[0;31mNameError\u001b[0m                                 Traceback (most recent call last)",
        "\u001b[0;32m<ipython-input-89-e44ccb2b8bd2>\u001b[0m in \u001b[0;36m<module>\u001b[0;34m()\u001b[0m\n\u001b[1;32m      1\u001b[0m \u001b[0;31m#Get list of all FLAC files\u001b[0m\u001b[0;34m\u001b[0m\u001b[0;34m\u001b[0m\u001b[0m\n\u001b[0;32m----> 2\u001b[0;31m \u001b[0mmyZip\u001b[0m \u001b[0;34m=\u001b[0m \u001b[0mzipfile\u001b[0m\u001b[0;34m.\u001b[0m\u001b[0mZipFile\u001b[0m\u001b[0;34m(\u001b[0m\u001b[0mzipFname\u001b[0m\u001b[0;34m)\u001b[0m\u001b[0;34m\u001b[0m\u001b[0m\n\u001b[0m\u001b[1;32m      3\u001b[0m \u001b[0mzippedFiles\u001b[0m \u001b[0;34m=\u001b[0m \u001b[0mmyZip\u001b[0m\u001b[0;34m.\u001b[0m\u001b[0mnamelist\u001b[0m\u001b[0;34m(\u001b[0m\u001b[0;34m)\u001b[0m \u001b[0;31m#List of all zipped files.\u001b[0m\u001b[0;34m\u001b[0m\u001b[0m\n\u001b[1;32m      4\u001b[0m \u001b[0;34m\u001b[0m\u001b[0m\n\u001b[1;32m      5\u001b[0m \u001b[0;31m#Get a sublist of just the FLAC files\u001b[0m\u001b[0;34m\u001b[0m\u001b[0;34m\u001b[0m\u001b[0m\n",
        "\u001b[0;31mNameError\u001b[0m: name 'zipFname' is not defined"
       ]
      }
     ],
     "prompt_number": 89
    },
    {
     "cell_type": "code",
     "collapsed": false,
     "input": [
      "#Check what external drives are connected. If none are connected, ask to extract locally, else exit.\n",
      "\n",
      "#The Dir where external drives appear if connected\n",
      "externalDir = \"/media/ollie/\"\n",
      "\n",
      "#List them\n",
      "cmd = [\"ls\",externalDir]\n",
      "extDri = [externalDir + i + '/' for i in sp.check_output(cmd).splitlines()]\n",
      "\n",
      "#Add rules for known external drives and folders I'd typically like to write to\n",
      "ruleIntenso = \"Sound/compressed_lossless/\"\n",
      "ruleIntenso1 = \"Sound/compressed_lossless/\"\n",
      "ruleIomega = \"Ollie/compressed_lossless/\"\n",
      "\n",
      "connectedDrives = []\n",
      "    \n",
      "#Check for connected drives and use extracted artist/album info to \n",
      "if [x for x in extDri if x in \"/media/ollie/INTENSO/\"]:\n",
      "    connectedDrives.append([x for x in extDri if x in \"/media/ollie/INTENSO/\"][0] + ruleIntenso + artistAlNum + '/' + albumAlNum + '/')\n",
      "else:\n",
      "    pass\n",
      "\n",
      "if [x for x in extDri if x in \"/media/ollie/INTENSO1/\"]:\n",
      "    connectedDrives.append([x for x in extDri if x in \"/media/ollie/INTENSO1/\"][0] + ruleIntenso1 + artistAlNum + '/' + albumAlNum + '/')\n",
      "else:\n",
      "    pass\n",
      "\n",
      "if [x for x in extDri if x in \"/media/ollie/8A9C1DFF9C1DE68B/\"]:\n",
      "    connectedDrives.append([x for x in extDri if x in \"/media/ollie/8A9C1DFF9C1DE68B/\"][0] + ruleIomega + artistAlNum + '/' + albumAlNum + '/')\n",
      "else:\n",
      "    pass\n",
      "\n",
      "#Set local extraction directory\n",
      "localExtDir = \"/ollie/Sound/compressed_lossless/\" + artistAlNum + '/' + albumAlNum + '/'"
     ],
     "language": "python",
     "metadata": {},
     "outputs": [
      {
       "output_type": "stream",
       "stream": "stdout",
       "text": [
        "The following FLAC external archive directories were found: \n",
        "/media/ollie/INTENSO/Sound/compressed_lossless/\n",
        "/media/ollie/INTENSO1/Sound/compressed_lossless/\n",
        "/media/ollie/8A9C1DFF9C1DE68B/Ollie/compressed_lossless/\n"
       ]
      }
     ],
     "prompt_number": 59
    },
    {
     "cell_type": "code",
     "collapsed": false,
     "input": [
      "#Carry out extraction to all connected drives, or locally if none connected.\n",
      "if connectedDrives:\n",
      "    print '\\nExtract to the following external locations? '\n",
      "    for i in connectedDrives: print i\n",
      "    doExtractExt = raw_input(\"Press 'Y' to extract, any other key to abort: \")\n",
      "    if doExtractExt == 'Y':\n",
      "        for drive in connectedDrives:\n",
      "            print \"Extracting to \" + drive + \" this may take a few seconds...\"\n",
      "            myZip.extractall(drive)\n",
      "    else:\n",
      "        sys.exit()\n",
      "else:\n",
      "    print 'No external FLAC archive dirs found. Write locally to' + localExtDir +'instead?'\n",
      "    writeLocal = raw_input(\"Press 'Y' to write locally, any other key to exit: \")\n",
      "    if writeLocal == \"Y\":\n",
      "        print 'Extracting to ' + localExtDir + ' this may take a few seconds...'\n",
      "    else:\n",
      "        sys.exit()"
     ],
     "language": "python",
     "metadata": {},
     "outputs": []
    },
    {
     "cell_type": "code",
     "collapsed": false,
     "input": [
      "#Next step is to rename all extracted files in the dir according to each files specific metadata and some pattern.\n",
      "\n",
      "#Create new file names in desired format\n",
      "newTrackNames = []\n",
      "for tracks in allMeta:\n",
      "    tn = \"%02d\" % int(tracks['TRACKNUMBER'])\n",
      "    trAlNum = re.sub(r'\\W+', '_', tracks['TITLE'])\n",
      "    newFname = tn + '_' + trAlNum + '.flac'\n",
      "    newTrackNames.append(newFname)\n",
      "\n",
      "#Check file names with user\n",
      "print \"Rename tracks as follows?\\n\"\n",
      "for track in newTrackNames:\n",
      "    print track\n",
      "    \n",
      "rename = raw_input(\"\\nAnswer Y/any other no: \")\n",
      "        \n",
      "if rename == \"Y\":\n",
      "    #Rename files to my desired style.\n",
      "    for drive in connectedDrives:\n",
      "        for oldName, newName in zip(flacFiles, newTrackNames):\n",
      "            cmd = [\"mv\", drive + oldName, drive + newName]\n",
      "            sp.call(cmd)\n",
      "else:\n",
      "    pass"
     ],
     "language": "python",
     "metadata": {},
     "outputs": [
      {
       "ename": "NameError",
       "evalue": "name 'allMeta' is not defined",
       "output_type": "pyerr",
       "traceback": [
        "\u001b[0;31m---------------------------------------------------------------------------\u001b[0m\n\u001b[0;31mNameError\u001b[0m                                 Traceback (most recent call last)",
        "\u001b[0;32m<ipython-input-1-d2aca3c2ad16>\u001b[0m in \u001b[0;36m<module>\u001b[0;34m()\u001b[0m\n\u001b[1;32m      3\u001b[0m \u001b[0;31m#Create new file names in desired format\u001b[0m\u001b[0;34m\u001b[0m\u001b[0;34m\u001b[0m\u001b[0m\n\u001b[1;32m      4\u001b[0m \u001b[0mnewTrackNames\u001b[0m \u001b[0;34m=\u001b[0m \u001b[0;34m[\u001b[0m\u001b[0;34m]\u001b[0m\u001b[0;34m\u001b[0m\u001b[0m\n\u001b[0;32m----> 5\u001b[0;31m \u001b[0;32mfor\u001b[0m \u001b[0mtracks\u001b[0m \u001b[0;32min\u001b[0m \u001b[0mallMeta\u001b[0m\u001b[0;34m:\u001b[0m\u001b[0;34m\u001b[0m\u001b[0m\n\u001b[0m\u001b[1;32m      6\u001b[0m     \u001b[0mtn\u001b[0m \u001b[0;34m=\u001b[0m \u001b[0;34m\"%02d\"\u001b[0m \u001b[0;34m%\u001b[0m \u001b[0mint\u001b[0m\u001b[0;34m(\u001b[0m\u001b[0mtracks\u001b[0m\u001b[0;34m[\u001b[0m\u001b[0;34m'TRACKNUMBER'\u001b[0m\u001b[0;34m]\u001b[0m\u001b[0;34m)\u001b[0m\u001b[0;34m\u001b[0m\u001b[0m\n\u001b[1;32m      7\u001b[0m     \u001b[0mtrAlNum\u001b[0m \u001b[0;34m=\u001b[0m \u001b[0mre\u001b[0m\u001b[0;34m.\u001b[0m\u001b[0msub\u001b[0m\u001b[0;34m(\u001b[0m\u001b[0;34mr'\\W+'\u001b[0m\u001b[0;34m,\u001b[0m \u001b[0;34m'_'\u001b[0m\u001b[0;34m,\u001b[0m \u001b[0mtracks\u001b[0m\u001b[0;34m[\u001b[0m\u001b[0;34m'TITLE'\u001b[0m\u001b[0;34m]\u001b[0m\u001b[0;34m)\u001b[0m\u001b[0;34m\u001b[0m\u001b[0m\n",
        "\u001b[0;31mNameError\u001b[0m: name 'allMeta' is not defined"
       ]
      }
     ],
     "prompt_number": 1
    },
    {
     "cell_type": "code",
     "collapsed": false,
     "input": [
      "#Next is to convert to OGG.\n",
      "#raw_input(\"Convert to OGG?\")\n",
      "#Convert to ogg-vorbis using oggenc\n",
      "#echo \"Converting $((i+1))/${#tracksClean[@]} ${title} to ogg-Vorbis format.\"\n",
      "#    FileName=\"${index1}_${tracksClean[i]}\"     \n",
      "#oggenc -q ${quality} --tracknum $((${i}+1)) --title \"${title}\" --artist \"${artist}\" --album \"${album}\" --date \"${date}\" --genre \"${genre}\" -o ${OggHome}${FileName}.ogg ${inputPath}${FileName}.wav\n",
      "#~/bin/ogg-cover-art.sh ${picture} ${OggHome}${FileName}.ogg #Ogg artwork\n",
      "#done\n",
      "\n",
      "#Further things:\n",
      "#1) interface with MySQL and send all metadata to MySQL table - can then create a nice API-GUI to sit on top of \n",
      "#table to display collection (al-la discogs).\n",
      "#2) Could also embed a player / use HTML5 player to play tracks via a browser - sweet! - this would be the basis of the\n",
      "#website."
     ],
     "language": "python",
     "metadata": {},
     "outputs": []
    },
    {
     "cell_type": "code",
     "collapsed": false,
     "input": [],
     "language": "python",
     "metadata": {},
     "outputs": []
    }
   ],
   "metadata": {}
  }
 ]
}