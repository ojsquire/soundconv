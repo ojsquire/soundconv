{
 "metadata": {
  "name": ""
 },
 "nbformat": 3,
 "nbformat_minor": 0,
 "worksheets": [
  {
   "cells": [
    {
     "cell_type": "heading",
     "level": 1,
     "metadata": {},
     "source": [
      "z2fo (zip-2-FLAC+OGG)"
     ]
    },
    {
     "cell_type": "code",
     "collapsed": false,
     "input": [
      "#Note: opening this file with the --script option ensures that a .py version is saved automatically that can be run\n",
      "#with the bash command: z2fo (I set up an alias in .bashrc)\n",
      "#\n",
      "#This script unzips a zip containing FLACs and converts to OGGs"
     ],
     "language": "python",
     "metadata": {},
     "outputs": []
    },
    {
     "cell_type": "code",
     "collapsed": false,
     "input": [
      "import sys\n",
      "import argparse\n",
      "import zipfile\n",
      "import os\n",
      "import re\n",
      "import subprocess as sp"
     ],
     "language": "python",
     "metadata": {},
     "outputs": []
    },
    {
     "cell_type": "code",
     "collapsed": false,
     "input": [
      "#Handle parsing of arguements to function\n",
      "\n",
      "#Create an instance of an arguement parser (gives us --help for free)\n",
      "parser = argparse.ArgumentParser()\n",
      "\n",
      "#Add an arguement\n",
      "parser.add_argument(\"zipFname\", help=\"\"\"the filename of the zip you \n",
      "                    want to extract\"\"\")\n",
      "args = parser.parse_args()\n",
      "zipFname = args.zipFname"
     ],
     "language": "python",
     "metadata": {},
     "outputs": []
    },
    {
     "cell_type": "code",
     "collapsed": false,
     "input": [
      "#Check if file exists\n",
      "if (os.path.isfile(zipFname) == False):\n",
      "    print \"File does not exist, aborting.\"\n",
      "    sys.exit()\n",
      "    \n",
      "#Check if file is a zip\n",
      "if (zipFname.endswith(\".zip\") == False):\n",
      "    print \"File \" + zipFname + \" is not a zip, aborting.\"\n",
      "    sys.exit()"
     ],
     "language": "python",
     "metadata": {},
     "outputs": []
    },
    {
     "cell_type": "code",
     "collapsed": false,
     "input": [
      "#Get list of all FLAC files\n",
      "myZip = zipfile.ZipFile(zipFname)\n",
      "zippedFiles = myZip.namelist() #List of all zipped files.\n",
      "\n",
      "#Get a sublist of just the FLAC files\n",
      "flacFiles = []\n",
      "\n",
      "for filename in zippedFiles:\n",
      "    if (filename.endswith(\".flac\") == True):\n",
      "        flacFiles.append(filename)\n",
      "        \n",
      "#Exit if no FLAC files are found\n",
      "if not flacFiles:\n",
      "    print \"No FLAC files were found, aborting.\"\n",
      "    sys.exit()\n",
      "\n",
      "#Print found FLAC files\n",
      "print str(len(flacFiles)) + \" FLAC files were found\"\n",
      "for flac in flacFiles:\n",
      "    print flac\n",
      "\n",
      "#Extract first FLAC file (so can examine metadata)\n",
      "whereExtract = \"/tmp/\"\n",
      "metaflacFile = flacFiles[0]\n",
      "myZip.extract(metaflacFile, path=whereExtract) #extract file to /tmp\n",
      "\n",
      "#For convenience, set full path to extracted file\n",
      "metaflacFullPath = whereExtract+metaflacFile\n",
      "\n",
      "#Set up a metaflac command on extracted file \n",
      "cmd = [\"metaflac\",\"--list\",\"--block-type=VORBIS_COMMENT\",metaflacFullPath]\n",
      "\n",
      "#Run the command using subprocess\n",
      "vorbisComment = sp.check_output(cmd)\n",
      "\n",
      "#At this point we can delete the extracted file\n",
      "#sp.call([\"rm\",\"-f\",metaflacFullPath])\n",
      "\n",
      "#This output is a single string containing all the data from the VORBIS_COMMENT block\n",
      "#so let's split it up by newlines to make it easier to extract the info we need.\n",
      "vorbisCommentList = vorbisComment.split(\"\\n\")\n",
      "\n",
      "#Get the artist\n",
      "artistComment = [s for s in vorbisCommentList if \" ARTIST=\" in s]\n",
      "artist = artistComment[0].split(\"ARTIST=\")[1]\n",
      "\n",
      "#Get the album\n",
      "albumComment = [s for s in vorbisCommentList if \" ALBUM=\" in s]\n",
      "album = albumComment[0].split(\"ALBUM=\")[1]\n",
      "\n",
      "artistAlNum = re.sub(r'\\W+', '_', artist)\n",
      "albumAlNum = re.sub(r'\\W+', '_', album)\n",
      "\n",
      "outFlac = \"/media/ollie/INTENSO/ollie/Sound/compressed_lossless/\"\n",
      "\n",
      "outFlacAlb = outFlac + artistAlNum + '/' + albumAlNum + '/'\n",
      "\n",
      "#Read from command line\n",
      "doExtract = raw_input(\"\\nExtract to the following directory?\\n\" + outFlacAlb + \"\\n(Answer Y/any other key for no): \")\n",
      "\n",
      "#If doExtract = \"Y\", then do the extraction to the specified dir\n",
      "if doExtract == \"Y\":\n",
      "    print \"Extracting files - this may take a few seconds...\"\n",
      "    myZip.extractall(outFlacAlb)\n",
      "else:\n",
      "    newPath = raw_input(\"Specify alternative path (or 'q' to quit):\")\n",
      "    if newPath == 'q':\n",
      "        sys.exit()\n",
      "    else:\n",
      "        areYouSure = raw_input(\"Extract to the following directory?\\n\" + newPath + \"\\n(Answer Y/any other key to quit):\")\n",
      "        if areYouSure == \"Y\":\n",
      "            myZip.extractall(newPath)\n",
      "        else:\n",
      "            sys.exit()\n",
      "            \n",
      "\n",
      "    \n"
     ],
     "language": "python",
     "metadata": {},
     "outputs": [
      {
       "ename": "NameError",
       "evalue": "name 'zipFname' is not defined",
       "output_type": "pyerr",
       "traceback": [
        "\u001b[0;31m---------------------------------------------------------------------------\u001b[0m\n\u001b[0;31mNameError\u001b[0m                                 Traceback (most recent call last)",
        "\u001b[0;32m<ipython-input-89-e44ccb2b8bd2>\u001b[0m in \u001b[0;36m<module>\u001b[0;34m()\u001b[0m\n\u001b[1;32m      1\u001b[0m \u001b[0;31m#Get list of all FLAC files\u001b[0m\u001b[0;34m\u001b[0m\u001b[0;34m\u001b[0m\u001b[0m\n\u001b[0;32m----> 2\u001b[0;31m \u001b[0mmyZip\u001b[0m \u001b[0;34m=\u001b[0m \u001b[0mzipfile\u001b[0m\u001b[0;34m.\u001b[0m\u001b[0mZipFile\u001b[0m\u001b[0;34m(\u001b[0m\u001b[0mzipFname\u001b[0m\u001b[0;34m)\u001b[0m\u001b[0;34m\u001b[0m\u001b[0m\n\u001b[0m\u001b[1;32m      3\u001b[0m \u001b[0mzippedFiles\u001b[0m \u001b[0;34m=\u001b[0m \u001b[0mmyZip\u001b[0m\u001b[0;34m.\u001b[0m\u001b[0mnamelist\u001b[0m\u001b[0;34m(\u001b[0m\u001b[0;34m)\u001b[0m \u001b[0;31m#List of all zipped files.\u001b[0m\u001b[0;34m\u001b[0m\u001b[0m\n\u001b[1;32m      4\u001b[0m \u001b[0;34m\u001b[0m\u001b[0m\n\u001b[1;32m      5\u001b[0m \u001b[0;31m#Get a sublist of just the FLAC files\u001b[0m\u001b[0;34m\u001b[0m\u001b[0;34m\u001b[0m\u001b[0m\n",
        "\u001b[0;31mNameError\u001b[0m: name 'zipFname' is not defined"
       ]
      }
     ],
     "prompt_number": 89
    },
    {
     "cell_type": "code",
     "collapsed": false,
     "input": [],
     "language": "python",
     "metadata": {},
     "outputs": []
    }
   ],
   "metadata": {}
  }
 ]
}