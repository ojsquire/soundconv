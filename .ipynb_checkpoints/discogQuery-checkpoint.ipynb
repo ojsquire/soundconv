{
 "metadata": {
  "name": ""
 },
 "nbformat": 3,
 "nbformat_minor": 0,
 "worksheets": [
  {
   "cells": [
    {
     "cell_type": "code",
     "collapsed": false,
     "input": [
      "#Queries the discogs database via the API.\n",
      "#Requires the discogs_client libaray:\n",
      "#sudo pip install discogs_client\n",
      "from subprocess import call\n",
      "import discogs_client\n",
      "d = discogs_client.Client('ExampleApplication/0.1')\n",
      "\n",
      "#For example, get the tracklist for Syro:\n",
      "#tracks = d.search('Aphex Twin','Syro')[0].tracklist\n",
      "\n",
      "#Can now use this as a starting point for the \n",
      "#metadata given just the artist and album name.\n",
      "#May also want to give the version (e.g. \n",
      "#vinyl, wav, cd etc.).\n",
      "\n",
      "#As a function\n",
      "def getMeta(artist, album):\n",
      "    # artist = input('artist name:')\n",
      "    # album = input('album name:')\n",
      "    tracks = d.search(artist, album).tracklist\n",
      "    return(tracks)\n",
      "\n",
      "tracks = getMeta(artist=\"Burial\", album=\"Untrue\")\n",
      "#To run this from the command line:\n",
      "#python -c 'import discogsQuery; print discogsQuery.getMeta(artist=\"Aphex Twin\", album=\"Syro\")'\n",
      "\n",
      "#Note: look in models.py for all the attributes of the discogs_client.model class\n",
      "#To get just the titles of the ith track it's:\n",
      "#track[i].title\n",
      "#the track number is:\n",
      "#track[i].position\n",
      "\n",
      "for track in range(0,len(tracks)):\n",
      "    print tracks[track].title\n",
      "\n",
      "#Try to avoid writing the titles out - want to do everything WITHIN this one script if poss.\n",
      "\n",
      "#Next: call up the sound files.\n",
      "\n",
      "# call([\"ls\", \"-l\"])\n",
      "\n",
      "# flac -f --verify -o ${FlacHome}${FileName}.flac --picture ${picture} -T \"TRACKNUMBER=$((${i}+1))\" -T \"TITLE=${title}\" -T \"ARTIST=${artist}\" -T \"ALBUM=${album}\" -T \"DATE=${date}\" -T \"GENRE=${genre}\" ${inputPath}${FileName}.wav\n"
     ],
     "language": "python",
     "metadata": {},
     "outputs": [
      {
       "output_type": "stream",
       "stream": "stdout",
       "text": [
        "Archangel\n",
        "Near Dark\n",
        "Homeless\n",
        "Shell Of Light\n",
        "Raver\n",
        "Etched Headplate\n",
        "Untrue\n",
        "UK\n",
        "Endorphin\n"
       ]
      }
     ],
     "prompt_number": 2
    },
    {
     "cell_type": "code",
     "collapsed": false,
     "input": [],
     "language": "python",
     "metadata": {},
     "outputs": []
    }
   ],
   "metadata": {}
  }
 ]
}